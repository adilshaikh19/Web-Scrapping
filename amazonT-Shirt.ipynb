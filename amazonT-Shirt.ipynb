{
 "cells": [
  {
   "cell_type": "code",
   "execution_count": 4,
   "metadata": {},
   "outputs": [],
   "source": [
    "from bs4 import BeautifulSoup \n",
    "import requests\n",
    "import csv\n",
    "import pandas as pd"
   ]
  },
  {
   "cell_type": "code",
   "execution_count": 5,
   "metadata": {},
   "outputs": [],
   "source": [
    "descriptions = [] # Create a list to store the descriptions\n",
    "prices = []\n",
    "details = []"
   ]
  },
  {
   "cell_type": "code",
   "execution_count": 6,
   "metadata": {},
   "outputs": [],
   "source": [
    "pages = list(range(1,2))\n",
    "for page in pages:\n",
    "  req = requests.get(\"https://www.flipkart.com/clothing-and-accessories/topwear/tshirt/men-tshirt/pr?sid=clo%2Cash%2Cank%2Cedy&otracker=categorytree&otracker=nmenu_sub_Men_0_T-Shirts&page={}\".format(page)).text  # URL of the website which you want to scrape\n",
    "  #content = req.content # Get the content\n",
    "  soup = BeautifulSoup(req,'html.parser')\n",
    "  #print(soup.prettify())\n",
    "\n",
    "  desc = soup.find_all('div' , class_='_2WkVRV')\n",
    "  for i in range(len(desc)):\n",
    "    descriptions.append(desc[i].text)\n",
    "    len(descriptions)\n",
    "    \n",
    "  price = soup.find_all('div',class_='_30jeq3') \n",
    "  # Extracting price of each laptop from the website\n",
    "  for i in range(len(price)):\n",
    "    prices.append(price[i].text)\n",
    "    len(prices)\n",
    "\n",
    "  detail = soup.find_all('a',class_='IRpwTa') \n",
    "  for i in range(len(detail)):\n",
    "    details.append(detail[i].text)\n",
    "    len(details)\n"
   ]
  },
  {
   "cell_type": "code",
   "execution_count": 7,
   "metadata": {},
   "outputs": [
    {
     "data": {
      "text/plain": [
       "['Solid Men Round Neck Blue, Grey T-Shirt',\n",
       " 'PerfectFit Solid Men Mandarin Collar Dark Blue, Grey, B...',\n",
       " 'Printed Men Hooded Neck Black T-Shirt',\n",
       " 'Striped Men Hooded Neck Red, Black T-Shirt',\n",
       " 'Color Block Men Hooded Neck Multicolor T-Shirt',\n",
       " 'Solid Men Mandarin Collar White, Black T-Shirt',\n",
       " 'Color Block Men Round Neck Yellow T-Shirt',\n",
       " 'Striped Men Round Neck Maroon, Grey T-Shirt',\n",
       " 'Color Block Men Round Neck Grey T-Shirt',\n",
       " 'Color Block Men Round Neck Black T-Shirt',\n",
       " 'Printed Men Hooded Neck Red T-Shirt',\n",
       " 'Color Block Men Round Neck Black, Yellow T-Shirt',\n",
       " 'Color Block Men Hooded Neck Multicolor T-Shirt',\n",
       " 'Solid Men Mandarin Collar Green T-Shirt',\n",
       " 'Solid Men Hooded Neck Black T-Shirt',\n",
       " 'Striped Men Round Neck White, Blue T-Shirt',\n",
       " 'Color Block Men Round Neck Blue, Yellow T-Shirt',\n",
       " 'Solid Men Mandarin Collar White, Black T-Shirt',\n",
       " 'Solid Men Mandarin Collar White, Blue T-Shirt',\n",
       " 'Printed Men Round Neck Blue T-Shirt',\n",
       " 'Solid Men Henley Neck Pink, Black T-Shirt',\n",
       " 'Solid Men Round Neck Red, Yellow T-Shirt',\n",
       " 'Printed Men Hooded Neck Dark Green T-Shirt',\n",
       " 'Printed Men Hooded Neck Dark Blue T-Shirt',\n",
       " 'Striped Men Round Neck Blue T-Shirt',\n",
       " 'Striped Men Round Neck Dark Blue, Grey T-Shirt',\n",
       " 'Printed Men Hooded Neck Dark Green, Black T-Shirt',\n",
       " 'Solid Men Round Neck Dark Blue T-Shirt',\n",
       " 'Solid Men Round Neck Maroon T-Shirt',\n",
       " 'Solid Men Polo Neck Maroon T-Shirt',\n",
       " 'Solid Men Hooded Neck Black T-Shirt',\n",
       " 'Printed Men Hooded Neck White, Red T-Shirt',\n",
       " 'Striped Men Round Neck White T-Shirt',\n",
       " 'Solid Men Mandarin Collar Maroon T-Shirt',\n",
       " 'Striped Men Round Neck Black T-Shirt',\n",
       " 'Solid Men Round Neck Black, Red, White T-Shirt',\n",
       " 'Color Block Men Polo Neck Dark Blue, Green T-Shirt',\n",
       " 'Printed Men Hooded Neck Black T-Shirt',\n",
       " 'Solid Men Henley Neck Maroon, Dark Blue T-Shirt',\n",
       " 'Solid Men Polo Neck Dark Blue T-Shirt']"
      ]
     },
     "execution_count": 7,
     "metadata": {},
     "output_type": "execute_result"
    }
   ],
   "source": [
    "details"
   ]
  },
  {
   "cell_type": "code",
   "execution_count": 8,
   "metadata": {},
   "outputs": [
    {
     "name": "stdout",
     "output_type": "stream",
     "text": [
      "40\n"
     ]
    }
   ],
   "source": [
    "print(len(descriptions))"
   ]
  },
  {
   "cell_type": "code",
   "execution_count": 16,
   "metadata": {},
   "outputs": [],
   "source": [
    "df = {'Product Name':descriptions,'Details':details,'Prices':prices}\n",
    "df = pd.DataFrame.from_dict(df, orient='index')\n",
    "df = df.transpose()[1:80]"
   ]
  },
  {
   "cell_type": "code",
   "execution_count": 17,
   "metadata": {},
   "outputs": [],
   "source": [
    "df.dropna(inplace=True)"
   ]
  },
  {
   "cell_type": "code",
   "execution_count": 18,
   "metadata": {},
   "outputs": [
    {
     "data": {
      "text/plain": [
       "<bound method NDFrame.head of        Product Name                                            Details Prices\n",
       "1           Billion  PerfectFit Solid Men Mandarin Collar Dark Blue...   ₹485\n",
       "2             TRIPR              Printed Men Hooded Neck Black T-Shirt   ₹300\n",
       "3           HELMONT         Striped Men Hooded Neck Red, Black T-Shirt   ₹209\n",
       "4         Eyebogler     Color Block Men Hooded Neck Multicolor T-Shirt   ₹286\n",
       "5        FastColors     Solid Men Mandarin Collar White, Black T-Shirt   ₹299\n",
       "6         Eyebogler          Color Block Men Round Neck Yellow T-Shirt   ₹261\n",
       "7             BLIVE        Striped Men Round Neck Maroon, Grey T-Shirt   ₹258\n",
       "8         Eyebogler            Color Block Men Round Neck Grey T-Shirt   ₹299\n",
       "9       Seven Rocks           Color Block Men Round Neck Black T-Shirt   ₹299\n",
       "10            TRIPR                Printed Men Hooded Neck Red T-Shirt   ₹303\n",
       "11       FastColors   Color Block Men Round Neck Black, Yellow T-Shirt   ₹590\n",
       "12        Eyebogler     Color Block Men Hooded Neck Multicolor T-Shirt   ₹261\n",
       "13      Seven Rocks            Solid Men Mandarin Collar Green T-Shirt   ₹243\n",
       "14      Seven Rocks                Solid Men Hooded Neck Black T-Shirt   ₹356\n",
       "15       FastColors         Striped Men Round Neck White, Blue T-Shirt   ₹272\n",
       "16         Try This    Color Block Men Round Neck Blue, Yellow T-Shirt   ₹308\n",
       "17       FastColors     Solid Men Mandarin Collar White, Black T-Shirt   ₹299\n",
       "18       FastColors      Solid Men Mandarin Collar White, Blue T-Shirt   ₹287\n",
       "19     JACK & JONES                Printed Men Round Neck Blue T-Shirt   ₹296\n",
       "20            TRIPR          Solid Men Henley Neck Pink, Black T-Shirt   ₹265\n",
       "21     London Hills           Solid Men Round Neck Red, Yellow T-Shirt   ₹399\n",
       "22            TRIPR         Printed Men Hooded Neck Dark Green T-Shirt   ₹299\n",
       "23            TRIPR          Printed Men Hooded Neck Dark Blue T-Shirt   ₹284\n",
       "24             Reya                Striped Men Round Neck Blue T-Shirt   ₹311\n",
       "25            BLIVE     Striped Men Round Neck Dark Blue, Grey T-Shirt   ₹258\n",
       "26            TRIPR  Printed Men Hooded Neck Dark Green, Black T-Shirt   ₹265\n",
       "27       FastColors             Solid Men Round Neck Dark Blue T-Shirt   ₹287\n",
       "28  U.S. POLO ASSN.                Solid Men Round Neck Maroon T-Shirt   ₹188\n",
       "29      Allen Solly                 Solid Men Polo Neck Maroon T-Shirt   ₹420\n",
       "30            TRIPR                Solid Men Hooded Neck Black T-Shirt   ₹265\n",
       "31             Bike         Printed Men Hooded Neck White, Red T-Shirt   ₹299\n",
       "32         Try This               Striped Men Round Neck White T-Shirt   ₹345\n",
       "33      Seven Rocks           Solid Men Mandarin Collar Maroon T-Shirt   ₹239\n",
       "34         Try This               Striped Men Round Neck Black T-Shirt   ₹335\n",
       "35       FastColors     Solid Men Round Neck Black, Red, White T-Shirt   ₹281\n",
       "36  U.S. POLO ASSN.  Color Block Men Polo Neck Dark Blue, Green T-S...   ₹503\n",
       "37            TRIPR              Printed Men Hooded Neck Black T-Shirt   ₹265\n",
       "38            BLIVE    Solid Men Henley Neck Maroon, Dark Blue T-Shirt   ₹265\n",
       "39      Allen Solly              Solid Men Polo Neck Dark Blue T-Shirt   ₹420>"
      ]
     },
     "execution_count": 18,
     "metadata": {},
     "output_type": "execute_result"
    }
   ],
   "source": [
    "df.head"
   ]
  },
  {
   "cell_type": "code",
   "execution_count": 20,
   "metadata": {},
   "outputs": [],
   "source": [
    "df.to_csv('amazonT-Shirt.csv',encoding='utf-8-sig')"
   ]
  }
 ],
 "metadata": {
  "interpreter": {
   "hash": "5a570c1c9e564e66e08c537fd9c2787b22d75407af6bd0fd0606e67d7697d6a1"
  },
  "kernelspec": {
   "display_name": "Python 3.8.8 64-bit ('base': conda)",
   "name": "python3"
  },
  "language_info": {
   "codemirror_mode": {
    "name": "ipython",
    "version": 3
   },
   "file_extension": ".py",
   "mimetype": "text/x-python",
   "name": "python",
   "nbconvert_exporter": "python",
   "pygments_lexer": "ipython3",
   "version": "3.8.8"
  },
  "orig_nbformat": 4
 },
 "nbformat": 4,
 "nbformat_minor": 2
}
